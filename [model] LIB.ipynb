{
 "cells": [
  {
   "cell_type": "code",
   "execution_count": 1,
   "metadata": {
    "collapsed": false
   },
   "outputs": [],
   "source": [
    "import pandas as pd\n",
    "import matplotlib.pyplot as plt\n",
    "import numpy as np\n",
    "import seaborn as sns\n",
    "\n",
    "\n",
    "from sklearn.model_selection import cross_val_score\n",
    "\n",
    "from sklearn.linear_model import SGDClassifier,RidgeClassifier\n",
    "from sklearn.model_selection import train_test_split,GridSearchCV,RandomizedSearchCV\n",
    "from sklearn.preprocessing import StandardScaler\n",
    "\n",
    "import pywFM"
   ]
  },
  {
   "cell_type": "code",
   "execution_count": 2,
   "metadata": {
    "collapsed": true
   },
   "outputs": [],
   "source": [
    "def predict_result(clf,X_test):\n",
    "    Y_pred=clf.predict(X_test)\n",
    "    res_file=open('result.csv', 'w')\n",
    "    for y_item in Y_pred:\n",
    "      res_file.write(\"%s\\n\" % y_item)\n",
    "    res_file.close()"
   ]
  },
  {
   "cell_type": "code",
   "execution_count": 13,
   "metadata": {
    "collapsed": true
   },
   "outputs": [],
   "source": [
    "X=pd.read_csv('x_train.csv',delimiter=\";\",header=None,names=['f'+str(i) for i in range (223)])\n",
    "y=pd.read_csv('y_train.csv',names=['class'])\n",
    "y=y['class']\n",
    "X_test=pd.read_csv('x_test.csv',delimiter=\";\",header=None,names=['f'+str(i) for i in range (223)])"
   ]
  },
  {
   "cell_type": "code",
   "execution_count": 23,
   "metadata": {
    "collapsed": false
   },
   "outputs": [
    {
     "name": "stdout",
     "output_type": "stream",
     "text": [
      "\n",
      "GRID SEARCH:\n",
      "Best 0.423\n",
      "Best parameters set:\n",
      "\talpha: 0.001\n",
      "\tloss: 'log'\n",
      "\tpenalty: 'l1'\n",
      "\n",
      "CROSS VALIDATION:\n",
      "Best : 0.423 (+/- 0.01)\n"
     ]
    }
   ],
   "source": [
    "clf=SGDClassifier(random_state=42)\n",
    "parameters = {\n",
    "    \n",
    "    'loss': ('log', 'hinge'),\n",
    "    'penalty': ['l1', 'l2', 'elasticnet'],\n",
    "    'alpha': [0.001, 0.0001, 0.00001, 0.000001]\n",
    "}\n",
    "\n",
    "print ()\n",
    "print (\"GRID SEARCH:\")\n",
    "grid_search = GridSearchCV(clf, parameters, cv=5)\n",
    "grid_search.fit(X, y)\n",
    "print (\"Best %0.3f\" % ( grid_search.best_score_))\n",
    "print (\"Best parameters set:\")\n",
    "best_parameters = grid_search.best_estimator_.get_params()\n",
    "for param_name in sorted(parameters.keys()):\n",
    "    print (\"\\t%s: %r\" % (param_name, best_parameters[param_name]))\n",
    "\n",
    "print ()\n",
    "print (\"CROSS VALIDATION:\")\n",
    "clf = SGDClassifier(**best_parameters)\n",
    "scores = cross_val_score(clf, X, y,    cv=5)\n",
    "print ('Best : %0.3f (+/- %0.2f)' % \\\n",
    "    (scores.mean(), scores.std() / 2))\n",
    "\n"
   ]
  },
  {
   "cell_type": "code",
   "execution_count": null,
   "metadata": {
    "collapsed": true
   },
   "outputs": [],
   "source": []
  }
 ],
 "metadata": {
  "kernelspec": {
   "display_name": "Python [default]",
   "language": "python",
   "name": "python3"
  },
  "language_info": {
   "codemirror_mode": {
    "name": "ipython",
    "version": 3
   },
   "file_extension": ".py",
   "mimetype": "text/x-python",
   "name": "python",
   "nbconvert_exporter": "python",
   "pygments_lexer": "ipython3",
   "version": "3.5.2"
  }
 },
 "nbformat": 4,
 "nbformat_minor": 2
}
