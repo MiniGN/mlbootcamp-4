{
 "cells": [
  {
   "cell_type": "code",
   "execution_count": 1,
   "metadata": {
    "collapsed": true
   },
   "outputs": [],
   "source": [
    "import pandas as pd\n",
    "import random\n",
    "import numpy as np\n",
    "import seaborn as sns\n",
    "import math\n",
    "from sklearn.ensemble import RandomForestClassifier, AdaBoostClassifier\n",
    "from sklearn.feature_selection import RFE\n",
    "from sklearn.linear_model import LinearRegression,Lasso\n",
    "from sklearn.model_selection import cross_val_score\n",
    "from sklearn.preprocessing import StandardScaler\n",
    "from sklearn.model_selection import cross_val_score"
   ]
  },
  {
   "cell_type": "code",
   "execution_count": 2,
   "metadata": {
    "collapsed": false
   },
   "outputs": [],
   "source": [
    "X=pd.read_csv('x_train.csv',delimiter=\";\",header=None,names=['f'+str(i) for i in range (223)])\n",
    "X_test=pd.read_csv('x_test.csv',delimiter=\";\",header=None,names=['f'+str(i) for i in range (223)])\n",
    "y=pd.read_csv('y_train.csv',names=['class'])\n",
    "y=y['class']"
   ]
  },
  {
   "cell_type": "code",
   "execution_count": 3,
   "metadata": {
    "collapsed": true
   },
   "outputs": [],
   "source": [
    "X_ftr=pd.read_csv('ftr_train.csv')\n",
    "X_ftr.drop('Unnamed: 0',inplace=True,axis=1)"
   ]
  },
  {
   "cell_type": "code",
   "execution_count": 4,
   "metadata": {
    "collapsed": false
   },
   "outputs": [],
   "source": [
    "# Фуникция считает качество модели на кроссвалилации\n",
    "# clf - модель, X,y - данные, ftr_set - пподмножество названий колонок, на которых считаем модель\n",
    "# cv_val - количество холдов для кросс валидации\n",
    "def CV_score(clf,X,y,ftr_set,cv_val):\n",
    "    # Если подмоножество признаков пустое, то возвращаем 0 \n",
    "    if len(ftr_set)==0:\n",
    "        return 0\n",
    "    # Иначе делаем кроссвалидацию\n",
    "    scores = cross_val_score(clf, X[ftr_set],y,cv=cv_val)\n",
    "    return scores.mean()\n",
    "    #return random.random()\n",
    "\n",
    "# Функция определяет  фичу, добавление которой наилучшим образом увеличивает качество \n",
    "# Фуникция берет случайную фичу из диапазона, добавляет её к стартовому набору фич и строит качество\n",
    "# N -  максимальное количество итераций\n",
    "# start_ftr - стартовый набор признаков\n",
    "# start_cv - стартовое значение качества\n",
    "def get_best_ftr(clf,X,y,start_ftr,start_cv,cv_val,N_params):\n",
    "    print (\"===START ftr lookup\")\n",
    "    print (\"Start_ftr_set=\",start_ftr)\n",
    "    print (\"Start_cv=     \",start_cv)\n",
    "    i=0\n",
    "    max_iter=N_params[0]\n",
    "    start_ftr_N=N_params[1]\n",
    "    end_ftr_N=N_params[2]\n",
    "    used_ftr=start_ftr.copy()\n",
    "    best_cv=start_cv\n",
    "    best_ftr=''\n",
    "    feature_names=list(X.columns)\n",
    "    while i<max_iter:\n",
    "        # выбираем случайную фичу\n",
    "        ftr_index=random.randint(start_ftr_N,end_ftr_N)\n",
    "        ftr_name=feature_names[ftr_index]\n",
    "        # Проверяем, что её не использвоали\n",
    "        if ftr_name in used_ftr:\n",
    "            continue\n",
    "        # Считаем качество на наборе фич с учетом выбранной\n",
    "        ftr_set=start_ftr.copy()\n",
    "        ftr_set.append(ftr_name)\n",
    "        cv=CV_score(clf,X,y,ftr_set,cv_val)\n",
    "        if cv>best_cv:\n",
    "            best_cv=cv\n",
    "            best_ftr=ftr_name\n",
    "            print (\"  ! \",end='')\n",
    "        else:\n",
    "            print (\"    \",end='')\n",
    "        print (\"{:5} {:10}\".format(i,ftr_name), \" \",cv)\n",
    "        used_ftr.append(ftr_name)\n",
    "        i=i+1\n",
    "    print (\"===END ftr lookup \")\n",
    "    return best_ftr,best_cv\n",
    "\n",
    "# Фуникция производит отбор фич методом Sequential Feature Selection\n",
    "def sfs(clf,X,y,start_ftr,cv_val,N_params):\n",
    "    cur_ftr=start_ftr.copy()\n",
    "    best_cv=CV_score(clf,X,y,start_ftr,cv_val)\n",
    "    doAdd=True\n",
    "    while doAdd:\n",
    "        new_ftr,best_cv=get_best_ftr(clf,X,y,cur_ftr,best_cv,cv_val,N_params)\n",
    "        if (new_ftr!=''):\n",
    "            print (new_ftr+\" added! New cv=\",best_cv)\n",
    "            cur_ftr.append(new_ftr)\n",
    "        else: doAdd=False\n",
    "    print (\"Final_ftr_set=\",cur_ftr, \" final_cv=\",best_cv)\n",
    "    return cur_ftr,best_cv"
   ]
  },
  {
   "cell_type": "code",
   "execution_count": null,
   "metadata": {
    "collapsed": false
   },
   "outputs": [
    {
     "name": "stdout",
     "output_type": "stream",
     "text": [
      "===START ftr lookup\n",
      "Start_ftr_set= ['f138', 'f96', 'f76', 'f11', 'f185', 'f115', 'f131', 'f83']\n",
      "Start_cv=      0.633999591876\n",
      "        0 f18f181      0.618823115367\n",
      "        1 f10f132      0.629989348586\n",
      "        2 f34f98       0.623110070004\n",
      "        3 f141f164     0.617084609024\n",
      "        4 f8f210       0.622243058473\n",
      "        5 f134f208     0.624257842664\n",
      "        6 f25f203      0.611060019687\n",
      "        7 f144f150     0.621951178889\n",
      "        8 f33f68       0.621963524722\n",
      "        9 f35f118      0.629706496666\n",
      "       10 f104f218     0.624247599354\n",
      "       11 f177f209     0.6219626908\n"
     ]
    }
   ],
   "source": [
    "clf = RandomForestClassifier(max_features='auto',n_estimators=300,max_depth=100)\n",
    "start_ftr=['f138', 'f96', 'f76', 'f11', 'f185', 'f115', 'f131', 'f83']\n",
    "max_iter=100\n",
    "start_ftr_N=223\n",
    "end_ftr_N=25198\n",
    "N_params=(max_iter, start_ftr_N,end_ftr_N)\n",
    "best_ftr,best_cv=sfs(clf,X_ftr,y,start_ftr,5,N_params)"
   ]
  },
  {
   "cell_type": "code",
   "execution_count": 6,
   "metadata": {
    "collapsed": false
   },
   "outputs": [
    {
     "data": {
      "text/plain": [
       "'f222f222'"
      ]
     },
     "execution_count": 6,
     "metadata": {},
     "output_type": "execute_result"
    }
   ],
   "source": [
    "X_ftr.columns[25198]"
   ]
  },
  {
   "cell_type": "code",
   "execution_count": null,
   "metadata": {
    "collapsed": true
   },
   "outputs": [],
   "source": []
  }
 ],
 "metadata": {
  "kernelspec": {
   "display_name": "Python 3",
   "language": "python",
   "name": "python3"
  },
  "language_info": {
   "codemirror_mode": {
    "name": "ipython",
    "version": 3
   },
   "file_extension": ".py",
   "mimetype": "text/x-python",
   "name": "python",
   "nbconvert_exporter": "python",
   "pygments_lexer": "ipython3",
   "version": "3.6.0"
  }
 },
 "nbformat": 4,
 "nbformat_minor": 2
}
