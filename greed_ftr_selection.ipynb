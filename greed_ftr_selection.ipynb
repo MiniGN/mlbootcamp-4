{
 "cells": [
  {
   "cell_type": "code",
   "execution_count": 53,
   "metadata": {
    "collapsed": true
   },
   "outputs": [],
   "source": [
    "import pandas as pd\n",
    "import random\n",
    "import numpy as np\n",
    "import seaborn as sns\n",
    "import math\n",
    "from sklearn.ensemble import RandomForestClassifier, AdaBoostClassifier\n",
    "from sklearn.feature_selection import RFE\n",
    "from sklearn.linear_model import LinearRegression,Lasso\n",
    "from sklearn.model_selection import cross_val_score\n",
    "from sklearn.preprocessing import StandardScaler\n",
    "from sklearn.model_selection import cross_val_score"
   ]
  },
  {
   "cell_type": "code",
   "execution_count": 4,
   "metadata": {
    "collapsed": false
   },
   "outputs": [],
   "source": [
    "X=pd.read_csv('x_train.csv',delimiter=\";\",header=None,names=['f'+str(i) for i in range (223)])\n",
    "X_test=pd.read_csv('x_test.csv',delimiter=\";\",header=None,names=['f'+str(i) for i in range (223)])\n",
    "y=pd.read_csv('y_train.csv',names=['class'])\n",
    "y=y['class']"
   ]
  },
  {
   "cell_type": "code",
   "execution_count": 50,
   "metadata": {
    "collapsed": false
   },
   "outputs": [],
   "source": [
    "# Фуникция возвращает качество \n",
    "def CV_score(clf,X,y,ftr_set,cv):\n",
    "    scores = cross_val_score(clf, iris.data, iris.target, cv=5)\n",
    "    scores.mean()\n",
    "    #return random.random()\n",
    "\n",
    "# Функция определяет  фичу, добавление которой наилучшим образом увеличивает качество \n",
    "# Фуникция берет случайную фичу из диапазона, добавляет её к стартовому набору фич и строит качество\n",
    "# N -  максимальное количество итераций\n",
    "# start_ftr - стартовый набор признаков\n",
    "# start_cv - стартовое значение качества\n",
    "def get_best_ftr(X,y,start_ftr,start_cv,max_iter, start_ftr_N,end_ftr_N):\n",
    "    print (\"===START ftr lookup\")\n",
    "    print (\"Start_ftr_set=\",start_ftr)\n",
    "    print (\"Start_cv=     \",start_cv)\n",
    "    i=0\n",
    "    used_ftr=start_ftr.copy()\n",
    "    best_cv=start_cv\n",
    "    best_ftr=''\n",
    "    feature_names=list(X.columns)\n",
    "    while i<max_iter:\n",
    "        # выбираем случайную фичу\n",
    "        ftr_index=random.randint(start_ftr_N,end_ftr_N)\n",
    "        ftr_name=feature_names[ftr_index]\n",
    "        # Проверяем, что её не использвоали\n",
    "        if ftr_name in used_ftr:\n",
    "            continue\n",
    "        # Считаем качество на наборе фич с учетом выбранной\n",
    "        ftr_set=start_set.copy().append(ftr_name)\n",
    "        cv=CV_score(X,y,ftr_set,5)\n",
    "        if cv>best_cv:\n",
    "            best_cv=cv\n",
    "            best_ftr=ftr_name\n",
    "            print (\"  !\",end='')\n",
    "        print (\"  \",i,\":\",ftr_name, \" \",cv)\n",
    "        used_ftr.append(ftr_name)\n",
    "        i=i+1\n",
    "    print (\"===END ftr lookup \")\n",
    "    return best_ftr,best_cv"
   ]
  },
  {
   "cell_type": "code",
   "execution_count": 52,
   "metadata": {
    "collapsed": false
   },
   "outputs": [
    {
     "name": "stdout",
     "output_type": "stream",
     "text": [
      "===START ftr lookup\n",
      "Start_ftr_set= ['f1', 'f2']\n",
      "Start_cv=      0.28815490894479245\n",
      "  !   0 : f8   0.6776312108071235\n",
      "   1 : f51   0.13712332001216743\n",
      "   2 : f25   0.48982831620722134\n",
      "   3 : f65   0.19768406560273144\n",
      "   4 : f10   0.33117541734105593\n",
      "   5 : f83   0.14534688751074998\n",
      "   6 : f97   0.457687081525324\n",
      "   7 : f26   0.020569737118103837\n",
      "   8 : f90   0.1661247446724773\n",
      "   9 : f87   0.05311851780025423\n",
      "===END ftr lookup \n",
      "f8 added! New cv= 0.6776312108071235\n",
      "===START ftr lookup\n",
      "Start_ftr_set= ['f1', 'f2', 'f8']\n",
      "Start_cv=      0.6776312108071235\n",
      "  !   0 : f99   0.9641549568006254\n",
      "   1 : f87   0.25673445891739255\n",
      "   2 : f30   0.030447423624544667\n",
      "   3 : f93   0.7776616284512645\n",
      "   4 : f67   0.23476748655770974\n",
      "   5 : f54   0.801981095547943\n",
      "   6 : f64   0.23725845444772076\n",
      "   7 : f15   0.6709432540957476\n",
      "   8 : f70   0.5566570039078311\n",
      "   9 : f27   0.262471469107148\n",
      "===END ftr lookup \n",
      "f99 added! New cv= 0.9641549568006254\n",
      "===START ftr lookup\n",
      "Start_ftr_set= ['f1', 'f2', 'f8', 'f99']\n",
      "Start_cv=      0.9641549568006254\n",
      "   0 : f63   0.7248976230221542\n",
      "   1 : f77   0.25537821971662233\n",
      "   2 : f16   0.8242165751770046\n",
      "   3 : f55   0.5717511231413165\n",
      "   4 : f19   0.6036164824279808\n",
      "   5 : f64   0.7896214808605062\n",
      "   6 : f27   0.294922170483397\n",
      "   7 : f41   0.3852964968299505\n",
      "   8 : f22   0.7687930446206911\n",
      "   9 : f5   0.46937935023788335\n",
      "===END ftr lookup \n",
      "Final_ftr= ['f1', 'f2', 'f8', 'f99']  final_cv= 0.9641549568006254\n"
     ]
    }
   ],
   "source": [
    "start_ftr=['f1','f2']\n",
    "best_cv=CV_score(X,y,start_set,5)\n",
    "doAdd=True\n",
    "while doAdd:\n",
    "    new_ftr,best_cv=get_best_ftr(X,y,start_ftr,best_cv,10,1,100)\n",
    "    if (new_ftr!=''):\n",
    "        print (new_ftr+\" added! New cv=\",best_cv)\n",
    "        start_ftr.append(new_ftr)\n",
    "    else: doAdd=False\n",
    "print (\"Final_ftr=\",start_ftr, \" final_cv=\",best_cv)"
   ]
  },
  {
   "cell_type": "code",
   "execution_count": null,
   "metadata": {
    "collapsed": true
   },
   "outputs": [],
   "source": []
  },
  {
   "cell_type": "code",
   "execution_count": null,
   "metadata": {
    "collapsed": true
   },
   "outputs": [],
   "source": []
  }
 ],
 "metadata": {
  "kernelspec": {
   "display_name": "Python 3",
   "language": "python",
   "name": "python3"
  },
  "language_info": {
   "codemirror_mode": {
    "name": "ipython",
    "version": 3
   },
   "file_extension": ".py",
   "mimetype": "text/x-python",
   "name": "python",
   "nbconvert_exporter": "python",
   "pygments_lexer": "ipython3",
   "version": "3.6.0"
  }
 },
 "nbformat": 4,
 "nbformat_minor": 2
}
