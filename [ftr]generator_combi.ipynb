{
 "cells": [
  {
   "cell_type": "code",
   "execution_count": 2,
   "metadata": {
    "collapsed": true
   },
   "outputs": [],
   "source": [
    "import pandas as pd\n",
    "import matplotlib.pyplot as plt\n",
    "import numpy as np\n",
    "import seaborn as sns\n",
    "from sklearn.decomposition import PCA\n",
    "from sklearn.model_selection import cross_val_score\n",
    "from sklearn.model_selection import train_test_split,GridSearchCV,RandomizedSearchCV\n",
    "from sklearn.preprocessing import StandardScaler\n",
    "\n",
    "from sklearn.feature_selection import mutual_info_classif\n",
    "from sklearn.tree import DecisionTreeClassifier\n",
    "from sklearn.cluster import KMeans\n",
    "from sklearn.ensemble import RandomForestClassifier\n",
    "from sklearn.preprocessing import PolynomialFeatures\n",
    "import scipy.stats as stats"
   ]
  },
  {
   "cell_type": "code",
   "execution_count": 82,
   "metadata": {
    "collapsed": false
   },
   "outputs": [],
   "source": [
    "X=pd.read_csv('x_train.csv',delimiter=\";\",header=None,names=['f'+str(i) for i in range (223)])\n",
    "y=pd.read_csv('y_train.csv',names=['class'])\n",
    "y=y['class']\n",
    "X_test=pd.read_csv('x_test.csv',delimiter=\";\",header=None,names=['f'+str(i) for i in range (223)])"
   ]
  },
  {
   "cell_type": "markdown",
   "metadata": {},
   "source": [
    "# standart"
   ]
  },
  {
   "cell_type": "code",
   "execution_count": 29,
   "metadata": {
    "collapsed": false
   },
   "outputs": [
    {
     "data": {
      "text/plain": [
       "(175, 1)"
      ]
     },
     "execution_count": 29,
     "metadata": {},
     "output_type": "execute_result"
    }
   ],
   "source": [
    "mi=mutual_info_classif(X,y,n_neighbors=5,random_state=42)\n",
    "midf=pd.DataFrame(data=mi,index=X.columns,columns=['mi'])\n",
    "midf[midf['mi']<=0.05].shape"
   ]
  },
  {
   "cell_type": "markdown",
   "metadata": {},
   "source": [
    "# Порождаем признаки f^2"
   ]
  },
  {
   "cell_type": "code",
   "execution_count": 31,
   "metadata": {
    "collapsed": false
   },
   "outputs": [
    {
     "data": {
      "text/plain": [
       "(363, 1)"
      ]
     },
     "execution_count": 31,
     "metadata": {},
     "output_type": "execute_result"
    }
   ],
   "source": [
    "mi1=mutual_info_classif(X1,y,n_neighbors=5,random_state=42)\n",
    "midf1=pd.DataFrame(data=mi1,index=X1.columns,columns=['mi'])\n",
    "midf1[midf1['mi']<=0.05].shape"
   ]
  },
  {
   "cell_type": "code",
   "execution_count": 36,
   "metadata": {
    "collapsed": false
   },
   "outputs": [
    {
     "data": {
      "text/plain": [
       "83"
      ]
     },
     "execution_count": 36,
     "metadata": {},
     "output_type": "execute_result"
    }
   ],
   "source": [
    "223+223-363"
   ]
  },
  {
   "cell_type": "code",
   "execution_count": 17,
   "metadata": {
    "collapsed": true
   },
   "outputs": [],
   "source": [
    "for c in X.columns:\n",
    "    X1['f3'+c]=X1['f3']*X1[c]"
   ]
  },
  {
   "cell_type": "markdown",
   "metadata": {},
   "source": [
    "# Отбираем лучшие признаки"
   ]
  },
  {
   "cell_type": "code",
   "execution_count": 83,
   "metadata": {
    "collapsed": false
   },
   "outputs": [
    {
     "name": "stdout",
     "output_type": "stream",
     "text": [
      "Index(['f0', 'f6', 'f17', 'f23', 'f26', 'f30', 'f51', 'f54', 'f61', 'f70',\n",
      "       'f79', 'f82', 'f120', 'f135', 'f138', 'f157', 'f158', 'f183', 'f193',\n",
      "       'f208'],\n",
      "      dtype='object')\n"
     ]
    }
   ],
   "source": [
    "from sklearn.feature_selection import SelectKBest\n",
    "kbest=SelectKBest(mutual_info_classif, k=20)\n",
    "X_new = kbest.fit_transform(X, y)\n",
    "best_cols1=X.columns[kbest.get_support()]\n",
    "print (best_cols1)"
   ]
  },
  {
   "cell_type": "markdown",
   "metadata": {},
   "source": [
    "Генерируем новые признаки для лучших"
   ]
  },
  {
   "cell_type": "code",
   "execution_count": 70,
   "metadata": {
    "collapsed": false
   },
   "outputs": [
    {
     "data": {
      "text/html": [
       "<div>\n",
       "<table border=\"1\" class=\"dataframe\">\n",
       "  <thead>\n",
       "    <tr style=\"text-align: right;\">\n",
       "      <th></th>\n",
       "      <th>f0</th>\n",
       "      <th>f1</th>\n",
       "      <th>f2</th>\n",
       "      <th>f3</th>\n",
       "      <th>f4</th>\n",
       "      <th>f5</th>\n",
       "      <th>f6</th>\n",
       "      <th>f7</th>\n",
       "      <th>f8</th>\n",
       "      <th>f9</th>\n",
       "      <th>...</th>\n",
       "      <th>f213</th>\n",
       "      <th>f214</th>\n",
       "      <th>f215</th>\n",
       "      <th>f216</th>\n",
       "      <th>f217</th>\n",
       "      <th>f218</th>\n",
       "      <th>f219</th>\n",
       "      <th>f220</th>\n",
       "      <th>f221</th>\n",
       "      <th>f222</th>\n",
       "    </tr>\n",
       "  </thead>\n",
       "  <tbody>\n",
       "    <tr>\n",
       "      <th>0</th>\n",
       "      <td>-1.351735</td>\n",
       "      <td>1.502242</td>\n",
       "      <td>2.049512</td>\n",
       "      <td>0.437597</td>\n",
       "      <td>0.243818</td>\n",
       "      <td>4.982503</td>\n",
       "      <td>-1.493039</td>\n",
       "      <td>1.868572</td>\n",
       "      <td>1.435876</td>\n",
       "      <td>3.594717</td>\n",
       "      <td>...</td>\n",
       "      <td>3.706007</td>\n",
       "      <td>-0.789066</td>\n",
       "      <td>4.193481</td>\n",
       "      <td>2.803058</td>\n",
       "      <td>0.685003</td>\n",
       "      <td>3.204492</td>\n",
       "      <td>3.528085</td>\n",
       "      <td>4.877951</td>\n",
       "      <td>0.937529</td>\n",
       "      <td>0.730470</td>\n",
       "    </tr>\n",
       "    <tr>\n",
       "      <th>1</th>\n",
       "      <td>2.810473</td>\n",
       "      <td>1.312591</td>\n",
       "      <td>1.392652</td>\n",
       "      <td>0.163840</td>\n",
       "      <td>0.654384</td>\n",
       "      <td>-2.725782</td>\n",
       "      <td>3.195347</td>\n",
       "      <td>1.910067</td>\n",
       "      <td>0.321657</td>\n",
       "      <td>0.256354</td>\n",
       "      <td>...</td>\n",
       "      <td>-1.442361</td>\n",
       "      <td>4.913119</td>\n",
       "      <td>-1.182302</td>\n",
       "      <td>1.540444</td>\n",
       "      <td>0.563015</td>\n",
       "      <td>1.976227</td>\n",
       "      <td>0.854290</td>\n",
       "      <td>0.490507</td>\n",
       "      <td>-0.190323</td>\n",
       "      <td>1.244596</td>\n",
       "    </tr>\n",
       "    <tr>\n",
       "      <th>2</th>\n",
       "      <td>2.328788</td>\n",
       "      <td>-1.928459</td>\n",
       "      <td>-2.064532</td>\n",
       "      <td>0.731323</td>\n",
       "      <td>0.117712</td>\n",
       "      <td>-1.567757</td>\n",
       "      <td>2.961654</td>\n",
       "      <td>-3.013697</td>\n",
       "      <td>0.185553</td>\n",
       "      <td>5.821898</td>\n",
       "      <td>...</td>\n",
       "      <td>-1.373806</td>\n",
       "      <td>1.991433</td>\n",
       "      <td>-2.514600</td>\n",
       "      <td>-2.660716</td>\n",
       "      <td>1.124836</td>\n",
       "      <td>-2.993835</td>\n",
       "      <td>-1.519144</td>\n",
       "      <td>1.851507</td>\n",
       "      <td>0.058385</td>\n",
       "      <td>0.706138</td>\n",
       "    </tr>\n",
       "    <tr>\n",
       "      <th>3</th>\n",
       "      <td>-0.128106</td>\n",
       "      <td>-2.072688</td>\n",
       "      <td>-2.407602</td>\n",
       "      <td>0.978550</td>\n",
       "      <td>0.111442</td>\n",
       "      <td>2.608775</td>\n",
       "      <td>-1.299084</td>\n",
       "      <td>-1.919077</td>\n",
       "      <td>1.566608</td>\n",
       "      <td>2.349346</td>\n",
       "      <td>...</td>\n",
       "      <td>0.295274</td>\n",
       "      <td>-2.896897</td>\n",
       "      <td>-1.639309</td>\n",
       "      <td>-2.186183</td>\n",
       "      <td>-0.097270</td>\n",
       "      <td>-3.085381</td>\n",
       "      <td>-0.802771</td>\n",
       "      <td>4.713787</td>\n",
       "      <td>0.943972</td>\n",
       "      <td>-0.320782</td>\n",
       "    </tr>\n",
       "    <tr>\n",
       "      <th>4</th>\n",
       "      <td>1.886821</td>\n",
       "      <td>0.757923</td>\n",
       "      <td>-0.097547</td>\n",
       "      <td>0.465719</td>\n",
       "      <td>0.621116</td>\n",
       "      <td>-0.332968</td>\n",
       "      <td>2.446465</td>\n",
       "      <td>-0.143173</td>\n",
       "      <td>0.032383</td>\n",
       "      <td>0.837508</td>\n",
       "      <td>...</td>\n",
       "      <td>-0.340020</td>\n",
       "      <td>1.320251</td>\n",
       "      <td>0.447317</td>\n",
       "      <td>-0.103243</td>\n",
       "      <td>1.285391</td>\n",
       "      <td>-0.445947</td>\n",
       "      <td>-0.459055</td>\n",
       "      <td>-2.744683</td>\n",
       "      <td>0.620512</td>\n",
       "      <td>1.166808</td>\n",
       "    </tr>\n",
       "  </tbody>\n",
       "</table>\n",
       "<p>5 rows × 223 columns</p>\n",
       "</div>"
      ],
      "text/plain": [
       "         f0        f1        f2        f3        f4        f5        f6  \\\n",
       "0 -1.351735  1.502242  2.049512  0.437597  0.243818  4.982503 -1.493039   \n",
       "1  2.810473  1.312591  1.392652  0.163840  0.654384 -2.725782  3.195347   \n",
       "2  2.328788 -1.928459 -2.064532  0.731323  0.117712 -1.567757  2.961654   \n",
       "3 -0.128106 -2.072688 -2.407602  0.978550  0.111442  2.608775 -1.299084   \n",
       "4  1.886821  0.757923 -0.097547  0.465719  0.621116 -0.332968  2.446465   \n",
       "\n",
       "         f7        f8        f9    ...         f213      f214      f215  \\\n",
       "0  1.868572  1.435876  3.594717    ...     3.706007 -0.789066  4.193481   \n",
       "1  1.910067  0.321657  0.256354    ...    -1.442361  4.913119 -1.182302   \n",
       "2 -3.013697  0.185553  5.821898    ...    -1.373806  1.991433 -2.514600   \n",
       "3 -1.919077  1.566608  2.349346    ...     0.295274 -2.896897 -1.639309   \n",
       "4 -0.143173  0.032383  0.837508    ...    -0.340020  1.320251  0.447317   \n",
       "\n",
       "       f216      f217      f218      f219      f220      f221      f222  \n",
       "0  2.803058  0.685003  3.204492  3.528085  4.877951  0.937529  0.730470  \n",
       "1  1.540444  0.563015  1.976227  0.854290  0.490507 -0.190323  1.244596  \n",
       "2 -2.660716  1.124836 -2.993835 -1.519144  1.851507  0.058385  0.706138  \n",
       "3 -2.186183 -0.097270 -3.085381 -0.802771  4.713787  0.943972 -0.320782  \n",
       "4 -0.103243  1.285391 -0.445947 -0.459055 -2.744683  0.620512  1.166808  \n",
       "\n",
       "[5 rows x 223 columns]"
      ]
     },
     "execution_count": 70,
     "metadata": {},
     "output_type": "execute_result"
    }
   ],
   "source": [
    "data=X\n",
    "X.head()"
   ]
  },
  {
   "cell_type": "code",
   "execution_count": 71,
   "metadata": {
    "collapsed": false
   },
   "outputs": [],
   "source": [
    "for i1, col1 in enumerate(best_cols1):\n",
    "    for i2, col2 in enumerate(best_cols1):\n",
    "            data['%s_%s_1' % (col1, col2)] = data[col1] - data[col2]\n",
    "            data['%s_%s_2' % (col1, col2)] = data[col1] + data[col2]\n",
    "            data['%s_%s_3' % (col1, col2)] = data[col1] / (data[col2])\n",
    "            data['%s_%s_4' % (col1, col2)] = data[col1] * data[col2]"
   ]
  },
  {
   "cell_type": "code",
   "execution_count": 62,
   "metadata": {
    "collapsed": false
   },
   "outputs": [],
   "source": [
    "data=data.fillna(0.001)"
   ]
  },
  {
   "cell_type": "markdown",
   "metadata": {},
   "source": [
    "Отбираем лучшие 200\n"
   ]
  },
  {
   "cell_type": "code",
   "execution_count": 72,
   "metadata": {
    "collapsed": false
   },
   "outputs": [],
   "source": [
    "kbest1=SelectKBest(mutual_info_classif, k=200)\n",
    "X_new = kbest1.fit_transform(data, y)\n",
    "best_cols2=data.columns[kbest1.get_support()]"
   ]
  },
  {
   "cell_type": "code",
   "execution_count": 80,
   "metadata": {
    "collapsed": false
   },
   "outputs": [],
   "source": [
    "f =open('best_200.txt','w')\n",
    "f.write(str(list(best_cols2)))\n",
    "f.close()"
   ]
  },
  {
   "cell_type": "code",
   "execution_count": null,
   "metadata": {
    "collapsed": true
   },
   "outputs": [],
   "source": []
  }
 ],
 "metadata": {
  "kernelspec": {
   "display_name": "Python 3",
   "language": "python",
   "name": "python3"
  },
  "language_info": {
   "codemirror_mode": {
    "name": "ipython",
    "version": 3
   },
   "file_extension": ".py",
   "mimetype": "text/x-python",
   "name": "python",
   "nbconvert_exporter": "python",
   "pygments_lexer": "ipython3",
   "version": "3.6.0"
  }
 },
 "nbformat": 4,
 "nbformat_minor": 2
}
