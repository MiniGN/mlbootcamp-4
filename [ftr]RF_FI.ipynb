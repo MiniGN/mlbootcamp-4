{
 "cells": [
  {
   "cell_type": "code",
   "execution_count": 1,
   "metadata": {
    "collapsed": true
   },
   "outputs": [],
   "source": [
    "import pandas as pd\n",
    "import matplotlib.pyplot as plt\n",
    "import numpy as np\n",
    "import seaborn as sns\n",
    "from sklearn.decomposition import PCA\n",
    "from sklearn.model_selection import cross_val_score\n",
    "from sklearn.model_selection import train_test_split,GridSearchCV,RandomizedSearchCV\n",
    "from sklearn.preprocessing import StandardScaler\n",
    "\n",
    "from sklearn.feature_selection import mutual_info_classif\n",
    "from sklearn.tree import DecisionTreeClassifier\n",
    "from sklearn.cluster import KMeans\n",
    "from sklearn.ensemble import RandomForestClassifier\n",
    "from sklearn.preprocessing import PolynomialFeatures\n",
    "import scipy.stats as stats"
   ]
  },
  {
   "cell_type": "code",
   "execution_count": 2,
   "metadata": {
    "collapsed": true
   },
   "outputs": [],
   "source": [
    "X=pd.read_csv('x_train.csv',delimiter=\";\",header=None,names=['f'+str(i) for i in range (223)])\n",
    "y=pd.read_csv('y_train.csv',names=['class'])\n",
    "y=y['class']\n",
    "X_test=pd.read_csv('x_test.csv',delimiter=\";\",header=None,names=['f'+str(i) for i in range (223)])"
   ]
  },
  {
   "cell_type": "code",
   "execution_count": 23,
   "metadata": {
    "collapsed": false
   },
   "outputs": [
    {
     "name": "stdout",
     "output_type": "stream",
     "text": [
      "223 0.546575600389\n",
      "222 0.548299235233\n",
      "221 0.548294799226\n",
      "220 0.546003355592\n",
      "219 0.546002862703\n",
      "218 0.55145668585\n",
      "217 0.550306281582\n",
      "216 0.552023015972\n",
      "215 0.548297756564\n",
      "214 0.548295785006\n",
      "213 0.549155384424\n",
      "212 0.548008923273\n",
      "211 0.544860344668\n",
      "210 0.552885572728\n",
      "209 0.545433082354\n",
      "208 0.550013998064\n",
      "207 0.546862462121\n",
      "206 0.552310370594\n",
      "205 0.549731572337\n",
      "204 0.550304310024\n",
      "203 0.54945013239\n",
      "202 0.551165388111\n",
      "201 0.550595607762\n",
      "200 0.550013998064\n",
      "199 0.548294306337\n",
      "198 0.549730093669\n",
      "197 0.551164895222\n",
      "196 0.555753204275\n",
      "195 0.547438650035\n",
      "194 0.553169477123\n",
      "193 0.548016316616\n",
      "192 0.552889515844\n",
      "191 0.551731225343\n",
      "190 0.545430617906\n",
      "189 0.548014345058\n",
      "188 0.552597725216\n",
      "187 0.5523148066\n",
      "186 0.554890154629\n",
      "185 0.55890178288\n",
      "184 0.548298249453\n",
      "183 0.54887049425\n",
      "182 0.551159966326\n",
      "181 0.552307906146\n",
      "180 0.550590185977\n",
      "179 0.552307413256\n",
      "178 0.541988770004\n",
      "177 0.550017448291\n",
      "176 0.55317342024\n",
      "175 0.550589200198\n",
      "174 0.552888530065\n"
     ]
    }
   ],
   "source": [
    "rf=RandomForestClassifier(max_features='auto',n_estimators=300,max_depth=100,random_state=42)\n",
    "cols=X.columns\n",
    "for i in range(50):\n",
    "    rf.fit(X[cols],y)\n",
    "    cv_score=np.mean(cross_val_score(rf, X[cols], y, cv=2))\n",
    "    print (len(cols),cv_score)\n",
    "    cols=pd.Series(rf.feature_importances_,cols).sort_values(ascending=False).index[:-1]"
   ]
  },
  {
   "cell_type": "code",
   "execution_count": 13,
   "metadata": {
    "collapsed": false
   },
   "outputs": [],
   "source": []
  }
 ],
 "metadata": {
  "kernelspec": {
   "display_name": "Python 3",
   "language": "python",
   "name": "python3"
  },
  "language_info": {
   "codemirror_mode": {
    "name": "ipython",
    "version": 3
   },
   "file_extension": ".py",
   "mimetype": "text/x-python",
   "name": "python",
   "nbconvert_exporter": "python",
   "pygments_lexer": "ipython3",
   "version": "3.6.0"
  }
 },
 "nbformat": 4,
 "nbformat_minor": 2
}
