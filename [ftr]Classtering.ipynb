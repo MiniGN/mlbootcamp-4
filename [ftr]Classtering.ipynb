{
 "cells": [
  {
   "cell_type": "code",
   "execution_count": 81,
   "metadata": {
    "collapsed": false
   },
   "outputs": [],
   "source": [
    "import pandas as pd\n",
    "import numpy as np\n",
    "from sklearn.cluster import KMeans\n",
    "from sklearn.linear_model import LogisticRegression\n",
    "from sklearn.model_selection  import cross_val_score\n",
    "from sklearn.ensemble import RandomForestClassifier, AdaBoostClassifier\n",
    "from sklearn.decomposition import RandomizedPCA,PCA\n",
    "from sklearn.decomposition import TruncatedSVD"
   ]
  },
  {
   "cell_type": "markdown",
   "metadata": {},
   "source": [
    "# Загрузка"
   ]
  },
  {
   "cell_type": "code",
   "execution_count": 100,
   "metadata": {
    "collapsed": false
   },
   "outputs": [],
   "source": [
    "X=pd.read_csv('x_train.csv',delimiter=\";\",header=None,names=['f'+str(i) for i in range (223)])\n",
    "y=pd.read_csv('y_train.csv',names=['class'])\n",
    "y=y['class']\n",
    "X_test=pd.read_csv('x_test.csv',delimiter=\";\",header=None,names=['f'+str(i) for i in range (223)])"
   ]
  },
  {
   "cell_type": "code",
   "execution_count": 7,
   "metadata": {
    "collapsed": false
   },
   "outputs": [
    {
     "name": "stdout",
     "output_type": "stream",
     "text": [
      "[4 4 4 ..., 3 0 4]\n"
     ]
    }
   ],
   "source": [
    "from sklearn.cluster import KMeans\n",
    "\n",
    "model = KMeans(n_clusters=5, random_state=1)\n",
    "preds = model.fit_predict(X.as_matrix())\n",
    "print (preds)"
   ]
  },
  {
   "cell_type": "code",
   "execution_count": 97,
   "metadata": {
    "collapsed": false
   },
   "outputs": [
    {
     "name": "stdout",
     "output_type": "stream",
     "text": [
      "0.581836427003\n"
     ]
    }
   ],
   "source": [
    "rf=RandomForestClassifier(max_features='auto',n_estimators=300,max_depth=100,random_state=42)\n",
    "best_cols=['f138', 'f96', 'f76', 'f11', 'f185', 'f115', 'f131', 'f83','dist_cstr_0','dist_cstr_1','dist_cstr_2','dist_cstr_3','dist_cstr_4']\n",
    "print (np.mean(cross_val_score(rf, X[best_cols], y, cv=5)))\n",
    "#0.630569809507\n",
    "#0.628267661926\n",
    "# 0.584688227952 PCA8 Kmeans center\n",
    "# 0.58155320281 PCA20 Kmeans center\n",
    "# 0.581836427003 SVD8 Kmeans center"
   ]
  },
  {
   "cell_type": "markdown",
   "metadata": {},
   "source": [
    "# Kmean\n",
    "\n"
   ]
  },
  {
   "cell_type": "code",
   "execution_count": 78,
   "metadata": {
    "collapsed": false
   },
   "outputs": [
    {
     "data": {
      "text/plain": [
       "KMeans(algorithm='auto', copy_x=True, init='k-means++', max_iter=300,\n",
       "    n_clusters=5, n_init=10, n_jobs=1, precompute_distances='auto',\n",
       "    random_state=42, tol=0.0001, verbose=0)"
      ]
     },
     "execution_count": 78,
     "metadata": {},
     "output_type": "execute_result"
    }
   ],
   "source": [
    "KMeans_model = KMeans(n_clusters=5, random_state=42)\n",
    "KMeans_model.fit(X)"
   ]
  },
  {
   "cell_type": "code",
   "execution_count": 79,
   "metadata": {
    "collapsed": false
   },
   "outputs": [],
   "source": [
    "data_2d_pca=X"
   ]
  },
  {
   "cell_type": "code",
   "execution_count": 80,
   "metadata": {
    "collapsed": false
   },
   "outputs": [
    {
     "ename": "TypeError",
     "evalue": "ufunc 'subtract' did not contain a loop with signature matching types dtype('<U32') dtype('<U32') dtype('<U32')",
     "output_type": "error",
     "traceback": [
      "\u001b[0;31m---------------------------------------------------------------------------\u001b[0m",
      "\u001b[0;31mTypeError\u001b[0m                                 Traceback (most recent call last)",
      "\u001b[0;32m<ipython-input-80-0c251d22df00>\u001b[0m in \u001b[0;36m<module>\u001b[0;34m()\u001b[0m\n\u001b[1;32m      3\u001b[0m     \u001b[0mci\u001b[0m\u001b[1;33m=\u001b[0m\u001b[1;36m0\u001b[0m\u001b[1;33m\u001b[0m\u001b[0m\n\u001b[1;32m      4\u001b[0m     \u001b[1;32mfor\u001b[0m \u001b[0mcc\u001b[0m \u001b[1;32min\u001b[0m \u001b[0mKMeans_model\u001b[0m\u001b[1;33m.\u001b[0m\u001b[0mcluster_centers_\u001b[0m\u001b[1;33m:\u001b[0m\u001b[1;33m\u001b[0m\u001b[0m\n\u001b[0;32m----> 5\u001b[0;31m         \u001b[0mdist\u001b[0m\u001b[1;33m=\u001b[0m\u001b[0mnp\u001b[0m\u001b[1;33m.\u001b[0m\u001b[0mlinalg\u001b[0m\u001b[1;33m.\u001b[0m\u001b[0mnorm\u001b[0m\u001b[1;33m(\u001b[0m\u001b[0mcc\u001b[0m\u001b[1;33m-\u001b[0m\u001b[0mpca_row\u001b[0m\u001b[1;33m)\u001b[0m\u001b[1;33m\u001b[0m\u001b[0m\n\u001b[0m\u001b[1;32m      6\u001b[0m         \u001b[0mdist\u001b[0m\u001b[1;33m=\u001b[0m\u001b[0mnp\u001b[0m\u001b[1;33m.\u001b[0m\u001b[0mlog\u001b[0m\u001b[1;33m(\u001b[0m\u001b[0mdist\u001b[0m\u001b[1;33m)\u001b[0m\u001b[1;33m\u001b[0m\u001b[0m\n\u001b[1;32m      7\u001b[0m         \u001b[0mX\u001b[0m\u001b[1;33m.\u001b[0m\u001b[0mix\u001b[0m\u001b[1;33m[\u001b[0m\u001b[0mi\u001b[0m\u001b[1;33m,\u001b[0m\u001b[1;34m'dist_kmean_'\u001b[0m\u001b[1;33m+\u001b[0m\u001b[0mstr\u001b[0m\u001b[1;33m(\u001b[0m\u001b[0mci\u001b[0m\u001b[1;33m)\u001b[0m\u001b[1;33m]\u001b[0m\u001b[1;33m=\u001b[0m\u001b[0mdist\u001b[0m\u001b[1;33m\u001b[0m\u001b[0m\n",
      "\u001b[0;31mTypeError\u001b[0m: ufunc 'subtract' did not contain a loop with signature matching types dtype('<U32') dtype('<U32') dtype('<U32')"
     ]
    }
   ],
   "source": [
    "i=0\n",
    "for pca_row in data_2d_pca:\n",
    "    ci=0\n",
    "    for cc in KMeans_model.cluster_centers_:\n",
    "        dist=np.linalg.norm(cc-pca_row)\n",
    "        dist=np.log(dist)\n",
    "        X.ix[i,'dist_kmean_'+str(ci)]=dist\n",
    "        ci=ci+1\n",
    "    i=i+1"
   ]
  },
  {
   "cell_type": "markdown",
   "metadata": {},
   "source": [
    "# PCA+clustering"
   ]
  },
  {
   "cell_type": "code",
   "execution_count": 69,
   "metadata": {
    "collapsed": false
   },
   "outputs": [
    {
     "data": {
      "text/plain": [
       "KMeans(algorithm='auto', copy_x=True, init='k-means++', max_iter=300,\n",
       "    n_clusters=5, n_init=10, n_jobs=1, precompute_distances='auto',\n",
       "    random_state=42, tol=0.0001, verbose=0)"
      ]
     },
     "execution_count": 69,
     "metadata": {},
     "output_type": "execute_result"
    }
   ],
   "source": [
    "pca = PCA(n_components=20,random_state=2,svd_solver='full')\n",
    "KMeans_model = KMeans(n_clusters=5, random_state=42)\n",
    "data_2d_pca = pca.fit_transform(X)\n",
    "KMeans_model.fit(data_2d_pca)"
   ]
  },
  {
   "cell_type": "code",
   "execution_count": 70,
   "metadata": {
    "collapsed": false,
    "scrolled": true
   },
   "outputs": [
    {
     "data": {
      "text/plain": [
       "(5, 20)"
      ]
     },
     "execution_count": 70,
     "metadata": {},
     "output_type": "execute_result"
    }
   ],
   "source": [
    "KMeans_model.cluster_centers_.shape"
   ]
  },
  {
   "cell_type": "code",
   "execution_count": 72,
   "metadata": {
    "collapsed": false
   },
   "outputs": [],
   "source": [
    "i=0\n",
    "for pca_row in data_2d_pca:\n",
    "    ci=0\n",
    "    for cc in KMeans_model.cluster_centers_:\n",
    "        dist=np.linalg.norm(cc-pca_row)\n",
    "        dist=np.log(dist)\n",
    "        X.ix[i,'dist_kmean_'+str(ci)]=dist\n",
    "        ci=ci+1\n",
    "    i=i+1\n",
    "    #t.append(i)"
   ]
  },
  {
   "cell_type": "markdown",
   "metadata": {},
   "source": [
    "# SVD+Kmeans"
   ]
  },
  {
   "cell_type": "code",
   "execution_count": 94,
   "metadata": {
    "collapsed": false
   },
   "outputs": [
    {
     "data": {
      "text/plain": [
       "KMeans(algorithm='auto', copy_x=True, init='k-means++', max_iter=300,\n",
       "    n_clusters=5, n_init=10, n_jobs=1, precompute_distances='auto',\n",
       "    random_state=42, tol=0.0001, verbose=0)"
      ]
     },
     "execution_count": 94,
     "metadata": {},
     "output_type": "execute_result"
    }
   ],
   "source": [
    "svd = TruncatedSVD(n_components=8, random_state=123)\n",
    "KMeans_model = KMeans(n_clusters=5, random_state=42)\n",
    "data_2d_pca = svd.fit_transform(X)\n",
    "KMeans_model.fit(data_2d_pca)"
   ]
  },
  {
   "cell_type": "code",
   "execution_count": 95,
   "metadata": {
    "collapsed": true
   },
   "outputs": [],
   "source": [
    "i=0\n",
    "for pca_row in data_2d_pca:\n",
    "    ci=0\n",
    "    for cc in KMeans_model.cluster_centers_:\n",
    "        dist=np.linalg.norm(cc-pca_row)\n",
    "        dist=np.log(dist)\n",
    "        X.ix[i,'dist_cstr_'+str(ci)]=dist\n",
    "        ci=ci+1\n",
    "    i=i+1\n",
    "    #t.append(i)"
   ]
  },
  {
   "cell_type": "code",
   "execution_count": 96,
   "metadata": {
    "collapsed": false
   },
   "outputs": [
    {
     "data": {
      "text/html": [
       "<div>\n",
       "<table border=\"1\" class=\"dataframe\">\n",
       "  <thead>\n",
       "    <tr style=\"text-align: right;\">\n",
       "      <th></th>\n",
       "      <th>f0</th>\n",
       "      <th>f1</th>\n",
       "      <th>f2</th>\n",
       "      <th>f3</th>\n",
       "      <th>f4</th>\n",
       "      <th>f5</th>\n",
       "      <th>f6</th>\n",
       "      <th>f7</th>\n",
       "      <th>f8</th>\n",
       "      <th>f9</th>\n",
       "      <th>...</th>\n",
       "      <th>f218</th>\n",
       "      <th>f219</th>\n",
       "      <th>f220</th>\n",
       "      <th>f221</th>\n",
       "      <th>f222</th>\n",
       "      <th>dist_cstr_0</th>\n",
       "      <th>dist_cstr_1</th>\n",
       "      <th>dist_cstr_2</th>\n",
       "      <th>dist_cstr_3</th>\n",
       "      <th>dist_cstr_4</th>\n",
       "    </tr>\n",
       "  </thead>\n",
       "  <tbody>\n",
       "    <tr>\n",
       "      <th>0</th>\n",
       "      <td>-1.351735</td>\n",
       "      <td>1.502242</td>\n",
       "      <td>2.049512</td>\n",
       "      <td>0.437597</td>\n",
       "      <td>0.243818</td>\n",
       "      <td>4.982503</td>\n",
       "      <td>-1.493039</td>\n",
       "      <td>1.868572</td>\n",
       "      <td>1.435876</td>\n",
       "      <td>3.594717</td>\n",
       "      <td>...</td>\n",
       "      <td>3.204492</td>\n",
       "      <td>3.528085</td>\n",
       "      <td>4.877951</td>\n",
       "      <td>0.937529</td>\n",
       "      <td>0.730470</td>\n",
       "      <td>5.265977</td>\n",
       "      <td>4.623805</td>\n",
       "      <td>5.235140</td>\n",
       "      <td>5.130479</td>\n",
       "      <td>4.542742</td>\n",
       "    </tr>\n",
       "    <tr>\n",
       "      <th>1</th>\n",
       "      <td>2.810473</td>\n",
       "      <td>1.312591</td>\n",
       "      <td>1.392652</td>\n",
       "      <td>0.163840</td>\n",
       "      <td>0.654384</td>\n",
       "      <td>-2.725782</td>\n",
       "      <td>3.195347</td>\n",
       "      <td>1.910067</td>\n",
       "      <td>0.321657</td>\n",
       "      <td>0.256354</td>\n",
       "      <td>...</td>\n",
       "      <td>1.976227</td>\n",
       "      <td>0.854290</td>\n",
       "      <td>0.490507</td>\n",
       "      <td>-0.190323</td>\n",
       "      <td>1.244596</td>\n",
       "      <td>5.339083</td>\n",
       "      <td>4.356158</td>\n",
       "      <td>5.123634</td>\n",
       "      <td>5.212069</td>\n",
       "      <td>5.196753</td>\n",
       "    </tr>\n",
       "    <tr>\n",
       "      <th>2</th>\n",
       "      <td>2.328788</td>\n",
       "      <td>-1.928459</td>\n",
       "      <td>-2.064532</td>\n",
       "      <td>0.731323</td>\n",
       "      <td>0.117712</td>\n",
       "      <td>-1.567757</td>\n",
       "      <td>2.961654</td>\n",
       "      <td>-3.013697</td>\n",
       "      <td>0.185553</td>\n",
       "      <td>5.821898</td>\n",
       "      <td>...</td>\n",
       "      <td>-2.993835</td>\n",
       "      <td>-1.519144</td>\n",
       "      <td>1.851507</td>\n",
       "      <td>0.058385</td>\n",
       "      <td>0.706138</td>\n",
       "      <td>5.222037</td>\n",
       "      <td>3.776520</td>\n",
       "      <td>4.967960</td>\n",
       "      <td>5.175233</td>\n",
       "      <td>5.142315</td>\n",
       "    </tr>\n",
       "    <tr>\n",
       "      <th>3</th>\n",
       "      <td>-0.128106</td>\n",
       "      <td>-2.072688</td>\n",
       "      <td>-2.407602</td>\n",
       "      <td>0.978550</td>\n",
       "      <td>0.111442</td>\n",
       "      <td>2.608775</td>\n",
       "      <td>-1.299084</td>\n",
       "      <td>-1.919077</td>\n",
       "      <td>1.566608</td>\n",
       "      <td>2.349346</td>\n",
       "      <td>...</td>\n",
       "      <td>-3.085381</td>\n",
       "      <td>-0.802771</td>\n",
       "      <td>4.713787</td>\n",
       "      <td>0.943972</td>\n",
       "      <td>-0.320782</td>\n",
       "      <td>5.243047</td>\n",
       "      <td>4.066179</td>\n",
       "      <td>5.133277</td>\n",
       "      <td>5.219362</td>\n",
       "      <td>5.211490</td>\n",
       "    </tr>\n",
       "    <tr>\n",
       "      <th>4</th>\n",
       "      <td>1.886821</td>\n",
       "      <td>0.757923</td>\n",
       "      <td>-0.097547</td>\n",
       "      <td>0.465719</td>\n",
       "      <td>0.621116</td>\n",
       "      <td>-0.332968</td>\n",
       "      <td>2.446465</td>\n",
       "      <td>-0.143173</td>\n",
       "      <td>0.032383</td>\n",
       "      <td>0.837508</td>\n",
       "      <td>...</td>\n",
       "      <td>-0.445947</td>\n",
       "      <td>-0.459055</td>\n",
       "      <td>-2.744683</td>\n",
       "      <td>0.620512</td>\n",
       "      <td>1.166808</td>\n",
       "      <td>5.297073</td>\n",
       "      <td>4.751504</td>\n",
       "      <td>5.301013</td>\n",
       "      <td>5.415092</td>\n",
       "      <td>5.077579</td>\n",
       "    </tr>\n",
       "  </tbody>\n",
       "</table>\n",
       "<p>5 rows × 228 columns</p>\n",
       "</div>"
      ],
      "text/plain": [
       "         f0        f1        f2        f3        f4        f5        f6  \\\n",
       "0 -1.351735  1.502242  2.049512  0.437597  0.243818  4.982503 -1.493039   \n",
       "1  2.810473  1.312591  1.392652  0.163840  0.654384 -2.725782  3.195347   \n",
       "2  2.328788 -1.928459 -2.064532  0.731323  0.117712 -1.567757  2.961654   \n",
       "3 -0.128106 -2.072688 -2.407602  0.978550  0.111442  2.608775 -1.299084   \n",
       "4  1.886821  0.757923 -0.097547  0.465719  0.621116 -0.332968  2.446465   \n",
       "\n",
       "         f7        f8        f9     ...           f218      f219      f220  \\\n",
       "0  1.868572  1.435876  3.594717     ...       3.204492  3.528085  4.877951   \n",
       "1  1.910067  0.321657  0.256354     ...       1.976227  0.854290  0.490507   \n",
       "2 -3.013697  0.185553  5.821898     ...      -2.993835 -1.519144  1.851507   \n",
       "3 -1.919077  1.566608  2.349346     ...      -3.085381 -0.802771  4.713787   \n",
       "4 -0.143173  0.032383  0.837508     ...      -0.445947 -0.459055 -2.744683   \n",
       "\n",
       "       f221      f222  dist_cstr_0  dist_cstr_1  dist_cstr_2  dist_cstr_3  \\\n",
       "0  0.937529  0.730470     5.265977     4.623805     5.235140     5.130479   \n",
       "1 -0.190323  1.244596     5.339083     4.356158     5.123634     5.212069   \n",
       "2  0.058385  0.706138     5.222037     3.776520     4.967960     5.175233   \n",
       "3  0.943972 -0.320782     5.243047     4.066179     5.133277     5.219362   \n",
       "4  0.620512  1.166808     5.297073     4.751504     5.301013     5.415092   \n",
       "\n",
       "   dist_cstr_4  \n",
       "0     4.542742  \n",
       "1     5.196753  \n",
       "2     5.142315  \n",
       "3     5.211490  \n",
       "4     5.077579  \n",
       "\n",
       "[5 rows x 228 columns]"
      ]
     },
     "execution_count": 96,
     "metadata": {},
     "output_type": "execute_result"
    }
   ],
   "source": [
    "X.head()"
   ]
  },
  {
   "cell_type": "code",
   "execution_count": 102,
   "metadata": {
    "collapsed": false
   },
   "outputs": [],
   "source": [
    "from sklearn.feature_selection import SelectKBest\n",
    "from sklearn.feature_selection import chi2\n",
    "from sklearn.feature_selection import mutual_info_regression\n"
   ]
  },
  {
   "cell_type": "code",
   "execution_count": 133,
   "metadata": {
    "collapsed": false
   },
   "outputs": [
    {
     "name": "stderr",
     "output_type": "stream",
     "text": [
      "D:\\Anaconda3\\lib\\site-packages\\sklearn\\utils\\validation.py:429: DataConversionWarning: Data with input dtype int64 was converted to float64 by the scale function.\n",
      "  warnings.warn(msg, _DataConversionWarning)\n"
     ]
    }
   ],
   "source": [
    "mi=mutual_info_regression(X,y,n_neighbors=5,random_state=42)"
   ]
  },
  {
   "cell_type": "code",
   "execution_count": 134,
   "metadata": {
    "collapsed": false
   },
   "outputs": [
    {
     "data": {
      "text/plain": [
       "['f3',\n",
       " 'f9',\n",
       " 'f14',\n",
       " 'f16',\n",
       " 'f25',\n",
       " 'f37',\n",
       " 'f42',\n",
       " 'f50',\n",
       " 'f56',\n",
       " 'f57',\n",
       " 'f60',\n",
       " 'f64',\n",
       " 'f68',\n",
       " 'f71',\n",
       " 'f80',\n",
       " 'f91',\n",
       " 'f92',\n",
       " 'f99',\n",
       " 'f106',\n",
       " 'f110',\n",
       " 'f119',\n",
       " 'f122',\n",
       " 'f132',\n",
       " 'f140',\n",
       " 'f145',\n",
       " 'f160',\n",
       " 'f161',\n",
       " 'f181',\n",
       " 'f202',\n",
       " 'f212']"
      ]
     },
     "execution_count": 134,
     "metadata": {},
     "output_type": "execute_result"
    }
   ],
   "source": [
    "worth_cols=list()\n",
    "for i in range(len(mi)):\n",
    "    val=mi[i]\n",
    "    if val==0:\n",
    "        worth_cols.append('f'+str(i))\n",
    "        #print (i,mi[i])\n",
    "worth_cols    "
   ]
  },
  {
   "cell_type": "code",
   "execution_count": 135,
   "metadata": {
    "collapsed": false
   },
   "outputs": [
    {
     "name": "stdout",
     "output_type": "stream",
     "text": [
      "0.468332039796\n"
     ]
    }
   ],
   "source": [
    "rf=RandomForestClassifier(max_features='auto',n_estimators=300,max_depth=100,random_state=42)\n",
    "print (np.mean(cross_val_score(rf, X[worth_cols], y, cv=5)))"
   ]
  },
  {
   "cell_type": "code",
   "execution_count": 136,
   "metadata": {
    "collapsed": false
   },
   "outputs": [
    {
     "data": {
      "text/plain": [
       "array([  1.21754234e-01,   2.77514684e-02,   1.79293663e-02,\n",
       "         0.00000000e+00,   2.05573609e-02,   4.47824218e-02,\n",
       "         1.29156502e-01,   2.20024439e-02,   1.17164174e-02,\n",
       "         0.00000000e+00,   3.46749110e-03,   5.81473052e-02,\n",
       "         4.50846543e-02,   3.10586182e-02,   0.00000000e+00,\n",
       "         4.20573535e-03,   0.00000000e+00,   9.25439984e-02,\n",
       "         7.99295738e-02,   2.41355070e-02,   1.81470857e-02,\n",
       "         2.05881477e-03,   7.54781032e-02,   1.21672223e-01,\n",
       "         7.77411735e-03,   0.00000000e+00,   1.40402090e-01,\n",
       "         5.90096629e-02,   2.17945969e-02,   1.40150000e-02,\n",
       "         1.34126885e-01,   1.57195590e-02,   8.89444069e-03,\n",
       "         1.75986879e-02,   2.82091409e-04,   2.91551593e-02,\n",
       "         6.21726980e-02,   0.00000000e+00,   9.30198651e-03,\n",
       "         3.02107682e-03,   5.26372413e-03,   4.99481909e-02,\n",
       "         0.00000000e+00,   1.83218544e-03,   5.32713243e-03,\n",
       "         7.86297237e-03,   4.19203961e-02,   3.90327584e-02,\n",
       "         1.07490590e-02,   4.82565383e-02,   0.00000000e+00,\n",
       "         1.25079150e-01,   1.21151982e-02,   2.45449528e-03,\n",
       "         1.18262062e-01,   4.36800312e-02,   0.00000000e+00,\n",
       "         0.00000000e+00,   1.33438750e-02,   5.23427362e-02,\n",
       "         0.00000000e+00,   1.16585061e-01,   8.24059038e-02,\n",
       "         3.99600261e-02,   0.00000000e+00,   5.80498481e-03,\n",
       "         2.12033095e-02,   8.33496244e-03,   0.00000000e+00,\n",
       "         5.26596989e-03,   1.32822226e-01,   0.00000000e+00,\n",
       "         6.53468578e-02,   5.53227922e-02,   1.40996477e-02,\n",
       "         1.21079988e-02,   4.95279124e-02,   1.76755371e-03,\n",
       "         3.02139651e-02,   1.41524505e-01,   0.00000000e+00,\n",
       "         3.33205892e-02,   8.94685605e-02,   7.31791991e-03,\n",
       "         6.91271628e-03,   1.42776692e-02,   6.55404151e-03,\n",
       "         1.41537943e-02,   1.55552145e-02,   5.72651432e-02,\n",
       "         1.27545402e-02,   0.00000000e+00,   0.00000000e+00,\n",
       "         1.40106966e-02,   3.15343410e-02,   2.83685283e-02,\n",
       "         7.04598775e-02,   4.17832983e-03,   2.37929291e-02,\n",
       "         0.00000000e+00,   9.51667308e-03,   1.92779385e-02,\n",
       "         2.17073565e-02,   3.39140540e-02,   8.80254397e-04,\n",
       "         1.70678811e-02,   0.00000000e+00,   1.74894864e-02,\n",
       "         8.26509182e-02,   4.57884000e-02,   0.00000000e+00,\n",
       "         1.35492890e-02,   7.49628020e-02,   2.05279534e-02,\n",
       "         6.55664860e-02,   1.12936482e-02,   3.28552899e-02,\n",
       "         7.33557703e-03,   2.06313570e-02,   0.00000000e+00,\n",
       "         1.18830401e-01,   1.45575135e-02,   0.00000000e+00,\n",
       "         2.61483926e-02,   7.35773090e-03,   1.18284438e-02,\n",
       "         1.48300699e-02,   1.92513273e-02,   5.06678020e-03,\n",
       "         4.58178504e-03,   1.54372601e-02,   2.64906105e-03,\n",
       "         0.00000000e+00,   3.70827672e-02,   5.41616004e-02,\n",
       "         1.27995814e-01,   4.49122335e-02,   8.48929118e-03,\n",
       "         1.50134509e-01,   2.91626062e-02,   0.00000000e+00,\n",
       "         8.76762692e-03,   4.09127883e-02,   6.95574569e-02,\n",
       "         2.04895425e-02,   0.00000000e+00,   1.04443949e-02,\n",
       "         5.62036027e-02,   1.33927273e-02,   7.36620528e-03,\n",
       "         3.91027913e-02,   2.48161783e-02,   3.41909892e-02,\n",
       "         1.45513684e-02,   1.34899221e-02,   1.35220677e-04,\n",
       "         6.98779420e-02,   1.12009597e-01,   1.23819377e-01,\n",
       "         3.39594644e-03,   0.00000000e+00,   0.00000000e+00,\n",
       "         2.18017465e-02,   4.31852070e-02,   2.58547317e-02,\n",
       "         8.37595650e-03,   4.12032306e-03,   2.94457058e-02,\n",
       "         8.24596391e-02,   5.11805721e-03,   3.84842828e-02,\n",
       "         7.64857520e-02,   2.13739596e-02,   4.22544657e-04,\n",
       "         3.68454661e-02,   6.56571095e-03,   1.61704233e-02,\n",
       "         1.88362844e-02,   2.70043933e-03,   5.74309562e-02,\n",
       "         4.35419404e-02,   0.00000000e+00,   4.00584209e-02,\n",
       "         1.01417458e-01,   6.58101571e-02,   3.79173777e-02,\n",
       "         3.78748804e-02,   3.27390262e-02,   4.48889329e-02,\n",
       "         1.35819071e-02,   1.08184036e-02,   6.38245733e-03,\n",
       "         1.76632767e-03,   1.35689318e-01,   2.54580613e-03,\n",
       "         1.65669513e-03,   1.33497990e-02,   1.13033262e-02,\n",
       "         7.08289961e-02,   3.21474699e-02,   7.30701766e-02,\n",
       "         2.69239430e-02,   0.00000000e+00,   1.83061325e-02,\n",
       "         8.45850185e-03,   5.46785925e-02,   3.14040230e-02,\n",
       "         4.17666286e-03,   1.25236886e-01,   2.05999100e-02,\n",
       "         1.56419758e-02,   1.49865024e-03,   0.00000000e+00,\n",
       "         5.60267623e-02,   8.39519234e-02,   2.33158397e-02,\n",
       "         1.89675191e-02,   2.36774255e-02,   1.45176360e-02,\n",
       "         1.71754377e-02,   1.78665785e-02,   4.56600999e-02,\n",
       "         6.74535459e-02])"
      ]
     },
     "execution_count": 136,
     "metadata": {},
     "output_type": "execute_result"
    }
   ],
   "source": [
    "mi"
   ]
  },
  {
   "cell_type": "code",
   "execution_count": null,
   "metadata": {
    "collapsed": true
   },
   "outputs": [],
   "source": []
  }
 ],
 "metadata": {
  "kernelspec": {
   "display_name": "Python [default]",
   "language": "python",
   "name": "python3"
  },
  "language_info": {
   "codemirror_mode": {
    "name": "ipython",
    "version": 3
   },
   "file_extension": ".py",
   "mimetype": "text/x-python",
   "name": "python",
   "nbconvert_exporter": "python",
   "pygments_lexer": "ipython3",
   "version": "3.5.2"
  }
 },
 "nbformat": 4,
 "nbformat_minor": 2
}
