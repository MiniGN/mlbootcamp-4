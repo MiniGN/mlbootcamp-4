{
 "cells": [
  {
   "cell_type": "markdown",
   "metadata": {},
   "source": [
    "Берем лучший классификатор\n",
    "\n",
    "best_cols=['f138', 'f96', 'f76', 'f11', 'f185', 'f115', 'f131', 'f83']\n",
    "\n",
    "clf = RandomForestClassifier(max_features='auto',n_estimators=300,max_depth=100)\n",
    "\n",
    "clf.fit(X[best_cols],y)\n",
    "\n",
    "predict_result(clf,X_test[best_cols])\n",
    "\n",
    "Добавляем в него последовательно фичи из F^2 методом adddel\n"
   ]
  },
  {
   "cell_type": "code",
   "execution_count": 18,
   "metadata": {
    "collapsed": false
   },
   "outputs": [],
   "source": [
    "import pandas as pd\n",
    "import matplotlib.pyplot as plt\n",
    "import numpy as np\n",
    "from sklearn.model_selection import cross_val_score\n",
    "from sklearn.model_selection import train_test_split,GridSearchCV,RandomizedSearchCV\n",
    "from sklearn.ensemble import RandomForestClassifier\n",
    "from random import randint"
   ]
  },
  {
   "cell_type": "code",
   "execution_count": 4,
   "metadata": {
    "collapsed": true
   },
   "outputs": [],
   "source": [
    "def predict_result(clf,X_test):\n",
    "    Y_pred=clf.predict(X_test)\n",
    "    res_file=open('result.csv', 'w')\n",
    "    for y_item in Y_pred:\n",
    "      res_file.write(\"%s\\n\" % y_item)\n",
    "    res_file.close()"
   ]
  },
  {
   "cell_type": "code",
   "execution_count": 5,
   "metadata": {
    "collapsed": true
   },
   "outputs": [],
   "source": [
    "X=pd.read_csv('x_train.csv',delimiter=\";\",header=None,names=['f'+str(i) for i in range (223)])\n",
    "y=pd.read_csv('y_train.csv',names=['class'])\n",
    "y=y['class']\n",
    "X_test=pd.read_csv('x_test.csv',delimiter=\";\",header=None,names=['f'+str(i) for i in range (223)])"
   ]
  },
  {
   "cell_type": "code",
   "execution_count": 6,
   "metadata": {
    "collapsed": true
   },
   "outputs": [],
   "source": [
    "def get_cv_score(cur_set):\n",
    "    if len(cur_set)==0:\n",
    "        return 0\n",
    "    rf=RandomForestClassifier(max_features='auto',n_estimators=300,max_depth=100,random_state=1)\n",
    "    return (np.mean(cross_val_score(rf, X[cur_set], y, cv=5)))"
   ]
  },
  {
   "cell_type": "code",
   "execution_count": 7,
   "metadata": {
    "collapsed": true
   },
   "outputs": [],
   "source": [
    "# Вспомогательная фуникця для ADD шага\n",
    "# Определяем признак, добавление которого в набор приводит к лучшему изменению качества\n",
    "def add_one_step(ftr_set):\n",
    "    cols=X.columns\n",
    "    cv_df=pd.DataFrame(columns=['score'])\n",
    "    # Последовательно перебирем все признаки, которые можем добавить\n",
    "    print (   \"currentFtr=\",end=\" \")\n",
    "    for ftr in cols:\n",
    "        #  и которые уже не входят в текущий набор признаков\n",
    "        if ftr in ftr_set:\n",
    "            continue\n",
    "        # оцениваем качество для очередного признака\n",
    "        cur_ftr_set=ftr_set.copy()\n",
    "        cur_ftr_set.append(ftr)\n",
    "        print (   ftr,end=\" \")\n",
    "        cv_df.loc[ftr]= get_cv_score(cur_ftr_set)\n",
    "    # Возвращаем признак на котором достигли лучшего качества и саму метрику\n",
    "    return (cv_df.idxmax()[0], cv_df.max()[0])\n",
    "\n",
    "# Функция делает полный ADD шаг\n",
    "# Возвращает количество признаков, которые добавлены с увеличение качества\n",
    "def add_step(cur_set):\n",
    "    print (\"===Start ADD step\")\n",
    "    DoAdd=True\n",
    "    cur_cv=get_cv_score(cur_set)\n",
    "    stps=0\n",
    "    # Пытаемся добавлять признаки, пока растет качество\n",
    "    while DoAdd:\n",
    "        # Добавляем очередной признак и считаем качество\n",
    "        add_ftr,add_cv=add_one_step(cur_set)\n",
    "        print (\"Step=\",stps,\" Curset=\",cur_set,\"  CurCV=\",cur_cv)\n",
    "        print (\"  BestFtr=\",add_ftr,\"  BestCV=\",add_cv)\n",
    "        # Качество выросло?\n",
    "        if add_cv>cur_cv:\n",
    "            # Если да, то добавляем признак в итоговый набор признаков\n",
    "            cur_set.append(add_ftr)\n",
    "            cur_cv=add_cv\n",
    "            stps=stps+1\n",
    "            print (\"  append ftr\")\n",
    "        # Если качество не растет, то заканчиваем ADD шаг\n",
    "        else: DoAdd=False\n",
    "    print (\"END Add step. Curset=\",cur_set,\"  CurCV=\",cur_cv) \n",
    "    return stps,cur_set\n",
    "\n",
    "# Вспомогательная фуникця для DEL шага    \n",
    "# Определяем признак, исключение которого из набор приводит к лучшему изменению качества\n",
    "def del_one_step(ftr_set):\n",
    "    cv_df=pd.DataFrame(columns=['score'])\n",
    "    # Последовательно перебирем все признаки из исходного множества\n",
    "    for ftr in ftr_set:\n",
    "        # исключаем признак из набора\n",
    "        cur_ftr_set=ftr_set.copy()\n",
    "        cur_ftr_set.remove(ftr)\n",
    "        # считаем качество\n",
    "        cv_df.loc[ftr]= get_cv_score(cur_ftr_set)\n",
    "    # Возвращаем признак на котором достигли лучшего качества и саму метрику\n",
    "    return (cv_df.idxmax()[0], cv_df.max()[0])\n",
    "\n",
    "# Функция делает полный DEL шаг\n",
    "# Возвращает количество признаков, которые удалены с увеличение качества\n",
    "def del_step(cur_set):\n",
    "    print (\"===Start DEL step\")\n",
    "    DoDel=True\n",
    "    cur_cv=get_cv_score(cur_set)\n",
    "    stps=0\n",
    "    # Пытаемся удалять признаки, пока растет качество\n",
    "    while DoDel:\n",
    "        # Удаляем очередной признак и считаем качество\n",
    "        del_ftr,del_cv=del_one_step(cur_set)\n",
    "        print (\"Step=\",stps,\" Curset=\",cur_set,\"  CurCV=\",cur_cv)\n",
    "        print (\"  BestFtr=\",del_ftr,\"  BestCV=\",del_cv)\n",
    "        # Качество выросло?\n",
    "        if del_cv>cur_cv:\n",
    "            # Если да, то добавляем признак в итоговый набор признаков\n",
    "            cur_set.remove(del_ftr)\n",
    "            cur_cv=del_cv\n",
    "            stps=stps+1\n",
    "            print (\"  delete ftr\")\n",
    "        # Если качество не растет, то заканчиваем ADD шаг\n",
    "        else: DoDel=False\n",
    "    print (\"End DEL step. Curset=\",cur_set,\"  CurCV=\",cur_cv) \n",
    "    return stps,cur_set"
   ]
  },
  {
   "cell_type": "code",
   "execution_count": null,
   "metadata": {
    "collapsed": true
   },
   "outputs": [],
   "source": [
    "cur_set=[]\n",
    "k=5\n",
    "while k>0:\n",
    "    print (\"=Start ADD-DEL Step\")\n",
    "    add_st,cur_set=add_step(cur_set)   \n",
    "    print (\">\",add_st,cur_set)\n",
    "    del_st,cur_set=del_step(cur_set)\n",
    "    print (\">\",del_st,cur_set)\n",
    "    k=del_st+add_st\n",
    "    #k=k+1"
   ]
  },
  {
   "cell_type": "code",
   "execution_count": 13,
   "metadata": {
    "collapsed": false
   },
   "outputs": [
    {
     "name": "stdout",
     "output_type": "stream",
     "text": [
      "0.630277504733\n"
     ]
    }
   ],
   "source": [
    "best_cols=['f138', 'f96', 'f76', 'f11', 'f185', 'f115', 'f131']\n",
    "rf=RandomForestClassifier(max_features='auto',n_estimators=300,max_depth=100,random_state=1)\n",
    "print (np.mean(cross_val_score(rf, X[best_cols], y, cv=5)))"
   ]
  },
  {
   "cell_type": "code",
   "execution_count": 14,
   "metadata": {
    "collapsed": false
   },
   "outputs": [
    {
     "name": "stdout",
     "output_type": "stream",
     "text": [
      "0.615928323433\n"
     ]
    }
   ],
   "source": [
    "print (np.mean(cross_val_score(rf, X[best_cols], y, cv=3)))"
   ]
  },
  {
   "cell_type": "code",
   "execution_count": 15,
   "metadata": {
    "collapsed": true
   },
   "outputs": [],
   "source": [
    "X_ftr=pd.read_csv('ftr_train.csv')"
   ]
  },
  {
   "cell_type": "code",
   "execution_count": null,
   "metadata": {
    "collapsed": false
   },
   "outputs": [
    {
     "name": "stdout",
     "output_type": "stream",
     "text": [
      "init cv= 0.630277504733\n"
     ]
    }
   ],
   "source": [
    "rf=RandomForestClassifier(max_features='auto',n_estimators=300,max_depth=100,random_state=1)\n",
    "ftr_set=['f138', 'f96', 'f76', 'f11', 'f185', 'f115', 'f131']\n",
    "best_cv=np.mean(cross_val_score(rf, X_ftr[ftr_set], y, cv=5,))\n",
    "print (\"init cv=\",best_cv)\n",
    "while True:\n",
    "    # Берем очередной признак\n",
    "    rnd_col=randint(223,25198)\n",
    "    ftr=X_ftr.columns[rnd_col]\n",
    "    # формируем набор признаков с учетом нового\n",
    "    cur_ftr_set=ftr_set.copy()\n",
    "    cur_ftr_set.append(ftr)\n",
    "    cur_cv=np.mean(cross_val_score(rf, X_ftr[cur_ftr_set], y, cv=5))\n",
    "    f = open('add_del_f_square.txt', 'a')    \n",
    "    if (cur_cv>best_cv):\n",
    "        f.write (\"!\")\n",
    "    f.writelines(ftr+\" \"+str(cur_cv)+ '\\n')\n",
    "    f.close()\n",
    "    "
   ]
  },
  {
   "cell_type": "code",
   "execution_count": null,
   "metadata": {
    "collapsed": true
   },
   "outputs": [],
   "source": []
  },
  {
   "cell_type": "code",
   "execution_count": null,
   "metadata": {
    "collapsed": true
   },
   "outputs": [],
   "source": []
  },
  {
   "cell_type": "code",
   "execution_count": null,
   "metadata": {
    "collapsed": true
   },
   "outputs": [],
   "source": []
  }
 ],
 "metadata": {
  "kernelspec": {
   "display_name": "Python [default]",
   "language": "python",
   "name": "python3"
  },
  "language_info": {
   "codemirror_mode": {
    "name": "ipython",
    "version": 3
   },
   "file_extension": ".py",
   "mimetype": "text/x-python",
   "name": "python",
   "nbconvert_exporter": "python",
   "pygments_lexer": "ipython3",
   "version": "3.5.2"
  }
 },
 "nbformat": 4,
 "nbformat_minor": 2
}
